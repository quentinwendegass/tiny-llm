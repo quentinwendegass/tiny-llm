{
 "cells": [
  {
   "cell_type": "code",
   "id": "initial_id",
   "metadata": {
    "collapsed": true,
    "ExecuteTime": {
     "end_time": "2024-08-05T19:51:43.940155Z",
     "start_time": "2024-08-05T19:51:43.919756Z"
    }
   },
   "source": [
    "import torch\n",
    "from pytorch_model_summary import summary\n",
    "from helper.helper import create_model, load_params\n",
    "\n",
    "\n",
    "def model_summary(name):\n",
    "    params = load_params(name)\n",
    "    model = create_model(device=torch.device(\"cpu\"), param_dict=params)\n",
    "    summary(model, torch.randint(0, params[\"vocab_size\"], (params[\"batch_size\"], params[\"context_len\"])), print_summary=True)"
   ],
   "outputs": [],
   "execution_count": 12
  },
  {
   "metadata": {},
   "cell_type": "markdown",
   "source": "# tiny-stories",
   "id": "54beb6c171fc1fec"
  },
  {
   "metadata": {
    "ExecuteTime": {
     "end_time": "2024-08-05T19:51:52.157918Z",
     "start_time": "2024-08-05T19:51:46.705877Z"
    }
   },
   "cell_type": "code",
   "source": "model_summary(\"tiny-stories\")",
   "id": "bbf34054ab4f3705",
   "outputs": [
    {
     "name": "stdout",
     "output_type": "stream",
     "text": [
      "-------------------------------------------------------------------------------\n",
      "            Layer (type)          Output Shape         Param #     Tr. Param #\n",
      "===============================================================================\n",
      "             Embedding-1       [100, 256, 512]      15,360,000      15,360,000\n",
      "   PositionalEmbedding-2       [100, 256, 512]               0               0\n",
      "           Transformer-3       [100, 256, 512]       3,150,848       3,150,848\n",
      "           Transformer-4       [100, 256, 512]       3,150,848       3,150,848\n",
      "           Transformer-5       [100, 256, 512]       3,150,848       3,150,848\n",
      "           Transformer-6       [100, 256, 512]       3,150,848       3,150,848\n",
      "           Transformer-7       [100, 256, 512]       3,150,848       3,150,848\n",
      "           Transformer-8       [100, 256, 512]       3,150,848       3,150,848\n",
      "           Transformer-9       [100, 256, 512]       3,150,848       3,150,848\n",
      "          Transformer-10       [100, 256, 512]       3,150,848       3,150,848\n",
      "            LayerNorm-11       [100, 256, 512]           1,024           1,024\n",
      "               Linear-12     [100, 256, 30000]      15,390,000      15,390,000\n",
      "===============================================================================\n",
      "Total params: 55,957,808\n",
      "Trainable params: 55,957,808\n",
      "Non-trainable params: 0\n",
      "-------------------------------------------------------------------------------\n"
     ]
    }
   ],
   "execution_count": 13
  },
  {
   "metadata": {},
   "cell_type": "code",
   "outputs": [],
   "execution_count": null,
   "source": "",
   "id": "dd715826857a8911"
  }
 ],
 "metadata": {
  "kernelspec": {
   "display_name": "Python 3",
   "language": "python",
   "name": "python3"
  },
  "language_info": {
   "codemirror_mode": {
    "name": "ipython",
    "version": 2
   },
   "file_extension": ".py",
   "mimetype": "text/x-python",
   "name": "python",
   "nbconvert_exporter": "python",
   "pygments_lexer": "ipython2",
   "version": "2.7.6"
  }
 },
 "nbformat": 4,
 "nbformat_minor": 5
}
